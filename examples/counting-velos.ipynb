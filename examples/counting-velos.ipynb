{
 "cells": [
  {
   "cell_type": "markdown",
   "metadata": {},
   "source": [
    "# Counting velos with Julia\n",
    "\n",
    "A [notebook](https://opendata.utou.ch/presentations/pyzurich%202014.9/) was presented a few years back by [@loleg](http://github.com/loleg) at a [PyZürich meetup](http://www.meetup.com/pyzurich/events/192324292/), serving a brief introduction to loading and processing open data with the [Pandas](http://pandas.pydata.org/) open source data analysis library. The second part of this notebook dealt with visualizing government data from bike counters *(Daten der permanenten Velozählstellen)*. The analysis is heavily inspired by prior work by [Dr. Ralph Straumann](http://geo.ebp.ch/2014/02/18/blick-in-die-werkzeugkiste-offene-daten-in-r-teil1/) (see also [part 2](http://geo.ebp.ch/2014/04/04/blick-in-die-werkzeugkiste-offene-daten-in-r-teil-2/), [part 3](http://geo.ebp.ch/2014/04/25/blick-in-die-werkzeugkiste-offene-daten-in-r-teil-3/)).\n",
    "\n",
    "Since mobility is a popular subject in Switzerland, and the data source continues to be a source of interest I have rewritten the example using the [Julia language](http://julialang.org/). To run this notebook interactively, install Julia locally and follow the instructions at [IJulia.jl](https://github.com/JuliaLang/IJulia.jl) to set up a notebook server. Or use [JuliaBox](http://www.juliabox.com) to run this code in the cloud.\n",
    "\n",
    "So let's get started and pull in some useful libraries."
   ]
  },
  {
   "cell_type": "code",
   "execution_count": 1,
   "metadata": {},
   "outputs": [
    {
     "ename": "LoadError",
     "evalue": "\u001b[91mArgumentError: Module TableSchema not found in current path.\nRun `Pkg.add(\"TableSchema\")` to install the TableSchema package.\u001b[39m",
     "output_type": "error",
     "traceback": [
      "\u001b[91mArgumentError: Module TableSchema not found in current path.\nRun `Pkg.add(\"TableSchema\")` to install the TableSchema package.\u001b[39m",
      "",
      "Stacktrace:",
      " [1] \u001b[1m_require\u001b[22m\u001b[22m\u001b[1m(\u001b[22m\u001b[22m::Symbol\u001b[1m)\u001b[22m\u001b[22m at \u001b[1m./loading.jl:435\u001b[22m\u001b[22m",
      " [2] \u001b[1mrequire\u001b[22m\u001b[22m\u001b[1m(\u001b[22m\u001b[22m::Symbol\u001b[1m)\u001b[22m\u001b[22m at \u001b[1m./loading.jl:405\u001b[22m\u001b[22m",
      " [3] \u001b[1minclude_string\u001b[22m\u001b[22m\u001b[1m(\u001b[22m\u001b[22m::String, ::String\u001b[1m)\u001b[22m\u001b[22m at \u001b[1m./loading.jl:522\u001b[22m\u001b[22m"
     ]
    }
   ],
   "source": [
    "import TableSchema"
   ]
  },
  {
   "cell_type": "markdown",
   "metadata": {},
   "source": [
    "The City of Zürich has an [open data portal](http://data.stadt-zuerich.ch) that puts together data from all kinds of departments and makes it more accessible to the general public. Let's use this to learn something about this lovely city. Do you like riding your bike through town - or maybe you would like to know just where all those cyclists are rushing off to in the morning? "
   ]
  }
 ],
 "metadata": {
  "kernelspec": {
   "display_name": "Julia 0.6.1",
   "language": "julia",
   "name": "julia-0.6"
  },
  "language_info": {
   "file_extension": ".jl",
   "mimetype": "application/julia",
   "name": "julia",
   "version": "0.6.1"
  }
 },
 "nbformat": 4,
 "nbformat_minor": 2
}
